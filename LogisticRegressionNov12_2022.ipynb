{
  "nbformat": 4,
  "nbformat_minor": 0,
  "metadata": {
    "colab": {
      "provenance": [],
      "authorship_tag": "ABX9TyP2fg66+avVr+C++OIAI5hn",
      "include_colab_link": true
    },
    "kernelspec": {
      "name": "python3",
      "display_name": "Python 3"
    },
    "language_info": {
      "name": "python"
    }
  },
  "cells": [
    {
      "cell_type": "markdown",
      "metadata": {
        "id": "view-in-github",
        "colab_type": "text"
      },
      "source": [
        "<a href=\"https://colab.research.google.com/github/thunde7226/CapstoneGoogleCyclist_Project/blob/main/LogisticRegressionNov12_2022.ipynb\" target=\"_parent\"><img src=\"https://colab.research.google.com/assets/colab-badge.svg\" alt=\"Open In Colab\"/></a>"
      ]
    },
    {
      "cell_type": "code",
      "execution_count": null,
      "metadata": {
        "id": "Z6N27ZTUKbhg"
      },
      "outputs": [],
      "source": []
    },
    {
      "cell_type": "markdown",
      "source": [
        "Using logistic Regression\n",
        "correlating cigaretter consumption with probability with cancer....\n"
      ],
      "metadata": {
        "id": "bg0QbS_oKce6"
      }
    },
    {
      "cell_type": "code",
      "source": [
        "from sklearn.datasets import load_iris\n",
        "from sklearn.linear_model import LogisticRegression\n",
        "import numpy as np"
      ],
      "metadata": {
        "id": "Zaoqrlz6KnZP"
      },
      "execution_count": 4,
      "outputs": []
    },
    {
      "cell_type": "markdown",
      "source": [
        "##Data (#Cigarettes, cancer)"
      ],
      "metadata": {
        "id": "YwE4a5ghLlfi"
      }
    },
    {
      "cell_type": "code",
      "source": [
        "x= np.array([[0, \"No\"],\n",
        "             [10, \"No\"],\n",
        "             [60, \"Yes\"],\n",
        "             [90, \"Yes\"],\n",
        "             [25, \"No\"]])\n",
        "\n",
        "n_features = 1\n",
        "\n"
      ],
      "metadata": {
        "id": "MpyN1LCWLrpi"
      },
      "execution_count": 14,
      "outputs": []
    },
    {
      "cell_type": "markdown",
      "source": [
        "##One-liner\n"
      ],
      "metadata": {
        "id": "8YweRchrMELL"
      }
    },
    {
      "cell_type": "code",
      "source": [
        "model = LogisticRegression().fit(x[:,0].reshape(n_features, 1), x[:,1])"
      ],
      "metadata": {
        "id": "lWTw58yPM-td"
      },
      "execution_count": 13,
      "outputs": []
    },
    {
      "cell_type": "markdown",
      "source": [
        "##Result & puzzle\n"
      ],
      "metadata": {
        "id": "HUZBtsHdMaPo"
      }
    },
    {
      "cell_type": "code",
      "source": [
        "print(model.predict([[2], [12], [13], [40], [90]]))"
      ],
      "metadata": {
        "colab": {
          "base_uri": "https://localhost:8080/"
        },
        "id": "89dYUs6YMgCq",
        "outputId": "4445ee6f-edcc-4eef-ae51-315ffb9f9dfe"
      },
      "execution_count": 15,
      "outputs": [
        {
          "output_type": "stream",
          "name": "stdout",
          "text": [
            "['No' 'No' 'No' 'No' 'Yes']\n"
          ]
        }
      ]
    }
  ]
}